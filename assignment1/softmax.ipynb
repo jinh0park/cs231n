{
 "cells": [
  {
   "cell_type": "markdown",
   "metadata": {},
   "source": [
    "# Softmax exercise\n",
    "\n",
    "*Complete and hand in this completed worksheet (including its outputs and any supporting code outside of the worksheet) with your assignment submission. For more details see the [assignments page](http://vision.stanford.edu/teaching/cs231n/assignments.html) on the course website.*\n",
    "\n",
    "This exercise is analogous to the SVM exercise. You will:\n",
    "\n",
    "- implement a fully-vectorized **loss function** for the Softmax classifier\n",
    "- implement the fully-vectorized expression for its **analytic gradient**\n",
    "- **check your implementation** with numerical gradient\n",
    "- use a validation set to **tune the learning rate and regularization** strength\n",
    "- **optimize** the loss function with **SGD**\n",
    "- **visualize** the final learned weights\n"
   ]
  },
  {
   "cell_type": "code",
   "execution_count": 1,
   "metadata": {},
   "outputs": [],
   "source": [
    "import random\n",
    "import numpy as np\n",
    "from cs231n.data_utils import load_CIFAR10\n",
    "import matplotlib.pyplot as plt\n",
    "\n",
    "from __future__ import print_function\n",
    "\n",
    "%matplotlib inline\n",
    "plt.rcParams['figure.figsize'] = (10.0, 8.0) # set default size of plots\n",
    "plt.rcParams['image.interpolation'] = 'nearest'\n",
    "plt.rcParams['image.cmap'] = 'gray'\n",
    "\n",
    "# for auto-reloading extenrnal modules\n",
    "# see http://stackoverflow.com/questions/1907993/autoreload-of-modules-in-ipython\n",
    "%load_ext autoreload\n",
    "%autoreload 2"
   ]
  },
  {
   "cell_type": "code",
   "execution_count": 2,
   "metadata": {},
   "outputs": [
    {
     "name": "stdout",
     "output_type": "stream",
     "text": [
      "Train data shape:  (49000, 3073)\n",
      "Train labels shape:  (49000,)\n",
      "Validation data shape:  (1000, 3073)\n",
      "Validation labels shape:  (1000,)\n",
      "Test data shape:  (1000, 3073)\n",
      "Test labels shape:  (1000,)\n",
      "dev data shape:  (500, 3073)\n",
      "dev labels shape:  (500,)\n"
     ]
    }
   ],
   "source": [
    "def get_CIFAR10_data(num_training=49000, num_validation=1000, num_test=1000, num_dev=500):\n",
    "    \"\"\"\n",
    "    Load the CIFAR-10 dataset from disk and perform preprocessing to prepare\n",
    "    it for the linear classifier. These are the same steps as we used for the\n",
    "    SVM, but condensed to a single function.  \n",
    "    \"\"\"\n",
    "    # Load the raw CIFAR-10 data\n",
    "    cifar10_dir = 'cs231n/datasets/cifar-10-batches-py'\n",
    "    \n",
    "    X_train, y_train, X_test, y_test = load_CIFAR10(cifar10_dir)\n",
    "    \n",
    "    # subsample the data\n",
    "    mask = list(range(num_training, num_training + num_validation))\n",
    "    X_val = X_train[mask]\n",
    "    y_val = y_train[mask]\n",
    "    mask = list(range(num_training))\n",
    "    X_train = X_train[mask]\n",
    "    y_train = y_train[mask]\n",
    "    mask = list(range(num_test))\n",
    "    X_test = X_test[mask]\n",
    "    y_test = y_test[mask]\n",
    "    mask = np.random.choice(num_training, num_dev, replace=False)\n",
    "    X_dev = X_train[mask]\n",
    "    y_dev = y_train[mask]\n",
    "    \n",
    "    # Preprocessing: reshape the image data into rows\n",
    "    X_train = np.reshape(X_train, (X_train.shape[0], -1))\n",
    "    X_val = np.reshape(X_val, (X_val.shape[0], -1))\n",
    "    X_test = np.reshape(X_test, (X_test.shape[0], -1))\n",
    "    X_dev = np.reshape(X_dev, (X_dev.shape[0], -1))\n",
    "    \n",
    "    # Normalize the data: subtract the mean image\n",
    "    mean_image = np.mean(X_train, axis = 0)\n",
    "    X_train -= mean_image\n",
    "    X_val -= mean_image\n",
    "    X_test -= mean_image\n",
    "    X_dev -= mean_image\n",
    "    \n",
    "    # add bias dimension and transform into columns\n",
    "    X_train = np.hstack([X_train, np.ones((X_train.shape[0], 1))])\n",
    "    X_val = np.hstack([X_val, np.ones((X_val.shape[0], 1))])\n",
    "    X_test = np.hstack([X_test, np.ones((X_test.shape[0], 1))])\n",
    "    X_dev = np.hstack([X_dev, np.ones((X_dev.shape[0], 1))])\n",
    "    \n",
    "    return X_train, y_train, X_val, y_val, X_test, y_test, X_dev, y_dev\n",
    "\n",
    "\n",
    "# Cleaning up variables to prevent loading data multiple times (which may cause memory issue)\n",
    "try:\n",
    "   del X_train, y_train\n",
    "   del X_test, y_test\n",
    "   print('Clear previously loaded data.')\n",
    "except:\n",
    "   pass\n",
    "\n",
    "# Invoke the above function to get our data.\n",
    "X_train, y_train, X_val, y_val, X_test, y_test, X_dev, y_dev = get_CIFAR10_data()\n",
    "print('Train data shape: ', X_train.shape)\n",
    "print('Train labels shape: ', y_train.shape)\n",
    "print('Validation data shape: ', X_val.shape)\n",
    "print('Validation labels shape: ', y_val.shape)\n",
    "print('Test data shape: ', X_test.shape)\n",
    "print('Test labels shape: ', y_test.shape)\n",
    "print('dev data shape: ', X_dev.shape)\n",
    "print('dev labels shape: ', y_dev.shape)"
   ]
  },
  {
   "cell_type": "markdown",
   "metadata": {},
   "source": [
    "## Softmax Classifier\n",
    "\n",
    "Your code for this section will all be written inside **cs231n/classifiers/softmax.py**. \n"
   ]
  },
  {
   "cell_type": "code",
   "execution_count": 18,
   "metadata": {},
   "outputs": [
    {
     "name": "stdout",
     "output_type": "stream",
     "text": [
      "loss: 2.386358\n",
      "sanity check: 2.302585\n"
     ]
    }
   ],
   "source": [
    "# First implement the naive softmax loss function with nested loops.\n",
    "# Open the file cs231n/classifiers/softmax.py and implement the\n",
    "# softmax_loss_naive function.\n",
    "\n",
    "from cs231n.classifiers.softmax import softmax_loss_naive\n",
    "import time\n",
    "\n",
    "# Generate a random softmax weight matrix and use it to compute the loss.\n",
    "W = np.random.randn(3073, 10) * 0.0001\n",
    "loss, grad = softmax_loss_naive(W, X_dev, y_dev, 0.0)\n",
    "\n",
    "# As a rough sanity check, our loss should be something close to -log(0.1).\n",
    "print('loss: %f' % loss)\n",
    "print('sanity check: %f' % (-np.log(0.1)))"
   ]
  },
  {
   "cell_type": "markdown",
   "metadata": {},
   "source": [
    "## Inline Question 1:\n",
    "Why do we expect our loss to be close to -log(0.1)? Explain briefly.**\n",
    "\n",
    "**Your answer:** At first, all value of W is 0 so all $p_i=1/10$.\n"
   ]
  },
  {
   "cell_type": "code",
   "execution_count": 19,
   "metadata": {},
   "outputs": [
    {
     "name": "stdout",
     "output_type": "stream",
     "text": [
      "numerical: 2.250584 analytic: 2.250584, relative error: 2.303174e-08\n",
      "numerical: 0.098808 analytic: 0.098808, relative error: 1.275729e-07\n",
      "numerical: -0.093646 analytic: -0.093646, relative error: 9.859659e-08\n",
      "numerical: -2.931733 analytic: -2.931733, relative error: 2.337599e-08\n",
      "numerical: -2.915543 analytic: -2.915543, relative error: 1.723657e-08\n",
      "numerical: -0.112526 analytic: -0.112526, relative error: 4.265225e-07\n",
      "numerical: -0.723260 analytic: -0.723260, relative error: 3.873094e-08\n",
      "numerical: 0.911698 analytic: 0.911698, relative error: 5.085660e-08\n",
      "numerical: -1.863650 analytic: -1.863650, relative error: 2.157505e-08\n",
      "numerical: 0.071543 analytic: 0.071543, relative error: 6.184185e-07\n",
      "numerical: 4.139897 analytic: 4.138578, relative error: 1.593189e-04\n",
      "numerical: -4.290866 analytic: -4.291070, relative error: 2.375886e-05\n",
      "numerical: 0.224015 analytic: 0.226078, relative error: 4.582622e-03\n",
      "numerical: -0.921524 analytic: -0.914344, relative error: 3.911001e-03\n",
      "numerical: -0.179003 analytic: -0.184278, relative error: 1.452162e-02\n",
      "numerical: 1.714817 analytic: 1.723455, relative error: 2.512510e-03\n",
      "numerical: -0.794125 analytic: -0.788625, relative error: 3.474929e-03\n",
      "numerical: -3.807635 analytic: -3.804077, relative error: 4.673790e-04\n",
      "numerical: -1.737178 analytic: -1.728021, relative error: 2.642425e-03\n",
      "numerical: -1.769697 analytic: -1.765408, relative error: 1.213169e-03\n"
     ]
    }
   ],
   "source": [
    "# Complete the implementation of softmax_loss_naive and implement a (naive)\n",
    "# version of the gradient that uses nested loops.\n",
    "loss, grad = softmax_loss_naive(W, X_dev, y_dev, 0.0)\n",
    "\n",
    "# As we did for the SVM, use numeric gradient checking as a debugging tool.\n",
    "# The numeric gradient should be close to the analytic gradient.\n",
    "from cs231n.gradient_check import grad_check_sparse\n",
    "f = lambda w: softmax_loss_naive(w, X_dev, y_dev, 0.0)[0]\n",
    "grad_numerical = grad_check_sparse(f, W, grad, 10)\n",
    "\n",
    "# similar to SVM case, do another gradient check with regularization\n",
    "loss, grad = softmax_loss_naive(W, X_dev, y_dev, 5e1)\n",
    "f = lambda w: softmax_loss_naive(w, X_dev, y_dev, 5e1)[0]\n",
    "grad_numerical = grad_check_sparse(f, W, grad, 10)"
   ]
  },
  {
   "cell_type": "code",
   "execution_count": 24,
   "metadata": {},
   "outputs": [
    {
     "name": "stdout",
     "output_type": "stream",
     "text": [
      "naive loss: 2.386358e+00 computed in 0.084320s\n",
      "vectorized loss: 2.386358e+00 computed in 0.006449s\n",
      "Loss difference: 0.000000\n",
      "Gradient difference: 0.000000\n"
     ]
    }
   ],
   "source": [
    "# Now that we have a naive implementation of the softmax loss function and its gradient,\n",
    "# implement a vectorized version in softmax_loss_vectorized.\n",
    "# The two versions should compute the same results, but the vectorized version should be\n",
    "# much faster.\n",
    "tic = time.time()\n",
    "loss_naive, grad_naive = softmax_loss_naive(W, X_dev, y_dev, 0.000005)\n",
    "toc = time.time()\n",
    "print('naive loss: %e computed in %fs' % (loss_naive, toc - tic))\n",
    "\n",
    "from cs231n.classifiers.softmax import softmax_loss_vectorized\n",
    "tic = time.time()\n",
    "loss_vectorized, grad_vectorized = softmax_loss_vectorized(W, X_dev, y_dev, 0.000005)\n",
    "toc = time.time()\n",
    "print('vectorized loss: %e computed in %fs' % (loss_vectorized, toc - tic))\n",
    "\n",
    "# As we did for the SVM, we use the Frobenius norm to compare the two versions\n",
    "# of the gradient.\n",
    "grad_difference = np.linalg.norm(grad_naive - grad_vectorized, ord='fro')\n",
    "print('Loss difference: %f' % np.abs(loss_naive - loss_vectorized))\n",
    "print('Gradient difference: %f' % grad_difference)"
   ]
  },
  {
   "cell_type": "code",
   "execution_count": 31,
   "metadata": {},
   "outputs": [
    {
     "name": "stdout",
     "output_type": "stream",
     "text": [
      "lr 5.000000e-07 reg 1.000000e+03 train accuracy: 0.319102 val accuracy: 0.310306\n",
      "lr 5.000000e-07 reg 1.000000e+04 train accuracy: 0.318224 val accuracy: 0.311633\n",
      "lr 5.000000e-07 reg 2.500000e+04 train accuracy: 0.318224 val accuracy: 0.304082\n",
      "lr 5.000000e-07 reg 5.000000e+04 train accuracy: 0.317653 val accuracy: 0.315510\n",
      "lr 5.000000e-07 reg 7.500000e+04 train accuracy: 0.316898 val accuracy: 0.310306\n",
      "lr 7.500000e-07 reg 1.000000e+03 train accuracy: 0.340776 val accuracy: 0.335408\n",
      "lr 7.500000e-07 reg 1.000000e+04 train accuracy: 0.339490 val accuracy: 0.330102\n",
      "lr 7.500000e-07 reg 2.500000e+04 train accuracy: 0.334796 val accuracy: 0.323061\n",
      "lr 7.500000e-07 reg 5.000000e+04 train accuracy: 0.335102 val accuracy: 0.322143\n",
      "lr 7.500000e-07 reg 7.500000e+04 train accuracy: 0.337714 val accuracy: 0.320102\n",
      "lr 1.000000e-06 reg 1.000000e+03 train accuracy: 0.347878 val accuracy: 0.333163\n",
      "lr 1.000000e-06 reg 1.000000e+04 train accuracy: 0.347163 val accuracy: 0.332959\n",
      "lr 1.000000e-06 reg 2.500000e+04 train accuracy: 0.340388 val accuracy: 0.323673\n",
      "lr 1.000000e-06 reg 5.000000e+04 train accuracy: 0.347245 val accuracy: 0.336122\n",
      "lr 1.000000e-06 reg 7.500000e+04 train accuracy: 0.343408 val accuracy: 0.335408\n",
      "lr 1.250000e-06 reg 1.000000e+03 train accuracy: 0.359776 val accuracy: 0.347449\n",
      "lr 1.250000e-06 reg 1.000000e+04 train accuracy: 0.355224 val accuracy: 0.344286\n",
      "lr 1.250000e-06 reg 2.500000e+04 train accuracy: 0.359061 val accuracy: 0.342857\n",
      "lr 1.250000e-06 reg 5.000000e+04 train accuracy: 0.352571 val accuracy: 0.329286\n",
      "lr 1.250000e-06 reg 7.500000e+04 train accuracy: 0.352796 val accuracy: 0.337347\n",
      "lr 1.500000e-06 reg 1.000000e+03 train accuracy: 0.361755 val accuracy: 0.344286\n",
      "lr 1.500000e-06 reg 1.000000e+04 train accuracy: 0.364735 val accuracy: 0.352653\n",
      "lr 1.500000e-06 reg 2.500000e+04 train accuracy: 0.367898 val accuracy: 0.352143\n",
      "lr 1.500000e-06 reg 5.000000e+04 train accuracy: 0.358265 val accuracy: 0.335510\n",
      "lr 1.500000e-06 reg 7.500000e+04 train accuracy: 0.365980 val accuracy: 0.344796\n",
      "lr 2.500000e-06 reg 1.000000e+03 train accuracy: 0.380510 val accuracy: 0.353776\n",
      "lr 2.500000e-06 reg 1.000000e+04 train accuracy: 0.379857 val accuracy: 0.352653\n",
      "lr 2.500000e-06 reg 2.500000e+04 train accuracy: 0.385531 val accuracy: 0.360204\n",
      "lr 2.500000e-06 reg 5.000000e+04 train accuracy: 0.374857 val accuracy: 0.348776\n",
      "lr 2.500000e-06 reg 7.500000e+04 train accuracy: 0.379184 val accuracy: 0.355408\n",
      "lr 5.000000e-06 reg 1.000000e+03 train accuracy: 0.378878 val accuracy: 0.349490\n",
      "lr 5.000000e-06 reg 1.000000e+04 train accuracy: 0.377327 val accuracy: 0.341939\n",
      "lr 5.000000e-06 reg 2.500000e+04 train accuracy: 0.381204 val accuracy: 0.348367\n",
      "lr 5.000000e-06 reg 5.000000e+04 train accuracy: 0.366633 val accuracy: 0.341531\n",
      "lr 5.000000e-06 reg 7.500000e+04 train accuracy: 0.386816 val accuracy: 0.355102\n",
      "best validation accuracy achieved during cross-validation: 0.360204\n"
     ]
    }
   ],
   "source": [
    "# Use the validation set to tune hyperparameters (regularization strength and\n",
    "# learning rate). You should experiment with different ranges for the learning\n",
    "# rates and regularization strengths; if you are careful you should be able to\n",
    "# get a classification accuracy of over 0.35 on the validation set.\n",
    "from cs231n.classifiers import Softmax\n",
    "results = {}\n",
    "best_val = -1\n",
    "best_softmax = None\n",
    "learning_rates = [5e-7, 7.5e-7, 1e-6, 1.25e-6, 1.5e-6, 2.5e-6, 5e-6]\n",
    "regularization_strengths = [1e4, 2.5e4, 5e4, 7.5e4, 1e3]\n",
    "\n",
    "################################################################################\n",
    "# TODO:                                                                        #\n",
    "# Use the validation set to set the learning rate and regularization strength. #\n",
    "# This should be identical to the validation that you did for the SVM; save    #\n",
    "# the best trained softmax classifer in best_softmax.                          #\n",
    "################################################################################\n",
    "# Your code\n",
    "train_val_cut = int(X_train.shape[0] * 0.8)\n",
    "X_tr, y_tr = X_train[:train_val_cut], y_train[:train_val_cut]\n",
    "X_val, y_val = X_train[train_val_cut:], y_train[train_val_cut:]\n",
    "for lr in learning_rates:\n",
    "    for rs in regularization_strengths:       \n",
    "        smax = Softmax()\n",
    "        smax.train(X_tr, y_tr, learning_rate=lr, reg=rs,\n",
    "                              num_iters=1500, verbose=False)\n",
    "        y_val_pred = smax.predict(X_val)\n",
    "        y_train_pred = smax.predict(X_train)\n",
    "        (train_acc, val_acc) = (np.mean(y_train == y_train_pred), np.mean(y_val == y_val_pred))\n",
    "        results[(lr, rs)] = (train_acc, val_acc)\n",
    "        if val_acc > best_val:\n",
    "            best_val = val_acc\n",
    "            best_softmax = smax\n",
    "################################################################################\n",
    "#                              END OF YOUR CODE                                #\n",
    "################################################################################\n",
    "    \n",
    "# Print out results.\n",
    "for lr, reg in sorted(results):\n",
    "    train_accuracy, val_accuracy = results[(lr, reg)]\n",
    "    print('lr %e reg %e train accuracy: %f val accuracy: %f' % (\n",
    "                lr, reg, train_accuracy, val_accuracy))\n",
    "    \n",
    "print('best validation accuracy achieved during cross-validation: %f' % best_val)"
   ]
  },
  {
   "cell_type": "code",
   "execution_count": 33,
   "metadata": {},
   "outputs": [
    {
     "name": "stdout",
     "output_type": "stream",
     "text": [
      "softmax on raw pixels final test set accuracy: 0.354000\n"
     ]
    }
   ],
   "source": [
    "# evaluate on test set\n",
    "# Evaluate the best softmax on test set\n",
    "y_test_pred = best_softmax.predict(X_test)\n",
    "test_accuracy = np.mean(y_test == y_test_pred)\n",
    "print('softmax on raw pixels final test set accuracy: %f' % (test_accuracy, ))"
   ]
  },
  {
   "cell_type": "markdown",
   "metadata": {},
   "source": [
    "**Inline Question** - *True or False*\n",
    "\n",
    "It's possible to add a new datapoint to a training set that would leave the SVM loss unchanged, but this is not the case with the Softmax classifier loss.\n",
    "\n",
    "*Your answer*: True\n",
    "\n",
    "*Your explanation*: 새로 더해지는 값의 label에 해당하는 p값이 1이 되어야 loss값이 변하지 않는데, p값의 범위는 (0,1)이므로 불가능"
   ]
  },
  {
   "cell_type": "code",
   "execution_count": 35,
   "metadata": {},
   "outputs": [
    {
     "data": {
      "image/png": "[encoded data removed]",
      "text/plain": [
       "<matplotlib.figure.Figure at 0x287dca48c88>"
      ]
     },
     "metadata": {},
     "output_type": "display_data"
    }
   ],
   "source": [
    "# Visualize the learned weights for each class\n",
    "w = best_softmax.W[:-1,:] # strip out the bias\n",
    "w = w.reshape(32, 32, 3, 10)\n",
    "\n",
    "w_min, w_max = np.min(w), np.max(w)\n",
    "\n",
    "classes = ['plane', 'car', 'bird', 'cat', 'deer', 'dog', 'frog', 'horse', 'ship', 'truck']\n",
    "for i in range(10):\n",
    "    plt.subplot(2, 5, i + 1)\n",
    "    \n",
    "    # Rescale the weights to be between 0 and 255\n",
    "    wimg = 255.0 * (w[:, :, :, i].squeeze() - w_min) / (w_max - w_min)\n",
    "    plt.imshow(wimg.astype('uint8'))\n",
    "    plt.axis('off')\n",
    "    plt.title(classes[i])"
   ]
  },
  {
   "cell_type": "code",
   "execution_count": null,
   "metadata": {},
   "outputs": [],
   "source": []
  }
 ],
 "metadata": {
  "kernelspec": {
   "display_name": "Python 3",
   "language": "python",
   "name": "python3"
  },
  "language_info": {
   "codemirror_mode": {
    "name": "ipython",
    "version": 3
   },
   "file_extension": ".py",
   "mimetype": "text/x-python",
   "name": "python",
   "nbconvert_exporter": "python",
   "pygments_lexer": "ipython3",
   "version": "3.6.4"
  }
 },
 "nbformat": 4,
 "nbformat_minor": 1
}
